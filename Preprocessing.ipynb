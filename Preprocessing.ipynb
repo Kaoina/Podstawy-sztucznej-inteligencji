{
 "cells": [
  {
   "cell_type": "code",
   "execution_count": 20,
   "metadata": {},
   "outputs": [
    {
     "name": "stdout",
     "output_type": "stream",
     "text": [
      "Przetwarzanie 1305 obrazów w stylu Academic_Art\n"
     ]
    },
    {
     "name": "stderr",
     "output_type": "stream",
     "text": [
      "Styl: Academic_Art: 100%|██████████| 1305/1305 [00:55<00:00, 23.37it/s] \n"
     ]
    },
    {
     "name": "stdout",
     "output_type": "stream",
     "text": [
      "Przetwarzanie 3035 obrazów w stylu Art_Nouveau\n"
     ]
    },
    {
     "name": "stderr",
     "output_type": "stream",
     "text": [
      "Styl: Art_Nouveau:  18%|█▊        | 544/3035 [00:49<02:37, 15.83it/s]"
     ]
    },
    {
     "name": "stdout",
     "output_type": "stream",
     "text": [
      "Nie udało się wczytać: C:\\Users\\Dominik\\Desktop\\DataSet\\Art_Nouveau\\Art_Nouveau\\245733.jpg\n"
     ]
    },
    {
     "name": "stderr",
     "output_type": "stream",
     "text": [
      "Styl: Art_Nouveau: 100%|██████████| 3035/3035 [02:53<00:00, 17.47it/s]\n"
     ]
    },
    {
     "name": "stdout",
     "output_type": "stream",
     "text": [
      "Przetwarzanie 5312 obrazów w stylu Baroque\n"
     ]
    },
    {
     "name": "stderr",
     "output_type": "stream",
     "text": [
      "Styl: Baroque:  14%|█▍        | 740/5312 [00:34<04:31, 16.84it/s]"
     ]
    },
    {
     "name": "stdout",
     "output_type": "stream",
     "text": [
      "Nie udało się wczytać: C:\\Users\\Dominik\\Desktop\\DataSet\\Baroque\\Baroque\\220102.jpg\n",
      "Nie udało się wczytać: C:\\Users\\Dominik\\Desktop\\DataSet\\Baroque\\Baroque\\220106.jpg\n"
     ]
    },
    {
     "name": "stderr",
     "output_type": "stream",
     "text": [
      "Styl: Baroque:  28%|██▊       | 1461/5312 [01:09<03:12, 19.98it/s]"
     ]
    },
    {
     "name": "stdout",
     "output_type": "stream",
     "text": [
      "Nie udało się wczytać: C:\\Users\\Dominik\\Desktop\\DataSet\\Baroque\\Baroque\\232176.jpg\n"
     ]
    },
    {
     "name": "stderr",
     "output_type": "stream",
     "text": [
      "Styl: Baroque:  28%|██▊       | 1506/5312 [01:12<02:48, 22.58it/s]"
     ]
    },
    {
     "name": "stdout",
     "output_type": "stream",
     "text": [
      "Nie udało się wczytać: C:\\Users\\Dominik\\Desktop\\DataSet\\Baroque\\Baroque\\232223.jpg\n"
     ]
    },
    {
     "name": "stderr",
     "output_type": "stream",
     "text": [
      "Styl: Baroque: 100%|██████████| 5312/5312 [04:43<00:00, 18.72it/s]\n"
     ]
    },
    {
     "name": "stdout",
     "output_type": "stream",
     "text": [
      "Przetwarzanie 2607 obrazów w stylu Expressionism\n"
     ]
    },
    {
     "name": "stderr",
     "output_type": "stream",
     "text": [
      "Styl: Expressionism: 100%|██████████| 2607/2607 [02:35<00:00, 16.75it/s]\n"
     ]
    },
    {
     "name": "stdout",
     "output_type": "stream",
     "text": [
      "Przetwarzanie 2235 obrazów w stylu Japanese_Art\n"
     ]
    },
    {
     "name": "stderr",
     "output_type": "stream",
     "text": [
      "Styl: Japanese_Art:  16%|█▌        | 354/2235 [00:26<01:13, 25.54it/s]"
     ]
    },
    {
     "name": "stdout",
     "output_type": "stream",
     "text": [
      "Nie udało się wczytać: C:\\Users\\Dominik\\Desktop\\DataSet\\Japanese_Art\\Japanese_Art\\223666.jpg\n"
     ]
    },
    {
     "name": "stderr",
     "output_type": "stream",
     "text": [
      "Styl: Japanese_Art:  42%|████▏     | 944/2235 [01:08<00:39, 32.43it/s]"
     ]
    },
    {
     "name": "stdout",
     "output_type": "stream",
     "text": [
      "Nie udało się wczytać: C:\\Users\\Dominik\\Desktop\\DataSet\\Japanese_Art\\Japanese_Art\\242432.jpg\n"
     ]
    },
    {
     "name": "stderr",
     "output_type": "stream",
     "text": [
      "Styl: Japanese_Art: 100%|██████████| 2235/2235 [02:23<00:00, 15.54it/s]\n"
     ]
    },
    {
     "name": "stdout",
     "output_type": "stream",
     "text": [
      "Przetwarzanie 3115 obrazów w stylu Neoclassicism\n"
     ]
    },
    {
     "name": "stderr",
     "output_type": "stream",
     "text": [
      "Styl: Neoclassicism: 100%|██████████| 3115/3115 [02:57<00:00, 17.52it/s]\n"
     ]
    },
    {
     "name": "stdout",
     "output_type": "stream",
     "text": [
      "Przetwarzanie 1324 obrazów w stylu Primitivism\n"
     ]
    },
    {
     "name": "stderr",
     "output_type": "stream",
     "text": [
      "Styl: Primitivism: 100%|██████████| 1324/1324 [01:15<00:00, 17.60it/s]\n"
     ]
    },
    {
     "name": "stdout",
     "output_type": "stream",
     "text": [
      "Przetwarzanie 5373 obrazów w stylu Realism\n"
     ]
    },
    {
     "name": "stderr",
     "output_type": "stream",
     "text": [
      "Styl: Realism: 100%|██████████| 5373/5373 [03:59<00:00, 22.43it/s]\n"
     ]
    },
    {
     "name": "stdout",
     "output_type": "stream",
     "text": [
      "Przetwarzanie 6192 obrazów w stylu Renaissance\n"
     ]
    },
    {
     "name": "stderr",
     "output_type": "stream",
     "text": [
      "Styl: Renaissance:  64%|██████▍   | 3971/6192 [03:27<01:23, 26.60it/s]"
     ]
    },
    {
     "name": "stdout",
     "output_type": "stream",
     "text": [
      "Nie udało się wczytać: C:\\Users\\Dominik\\Desktop\\DataSet\\Renaissance\\Renaissance\\241406.jpg\n"
     ]
    },
    {
     "name": "stderr",
     "output_type": "stream",
     "text": [
      "Styl: Renaissance:  70%|██████▉   | 4316/6192 [03:43<01:32, 20.39it/s]"
     ]
    },
    {
     "name": "stdout",
     "output_type": "stream",
     "text": [
      "Nie udało się wczytać: C:\\Users\\Dominik\\Desktop\\DataSet\\Renaissance\\Renaissance\\249071.jpg\n"
     ]
    },
    {
     "name": "stderr",
     "output_type": "stream",
     "text": [
      "Styl: Renaissance: 100%|██████████| 6192/6192 [06:10<00:00, 16.71it/s]\n"
     ]
    },
    {
     "name": "stdout",
     "output_type": "stream",
     "text": [
      "Przetwarzanie 2521 obrazów w stylu Rococo\n"
     ]
    },
    {
     "name": "stderr",
     "output_type": "stream",
     "text": [
      "Styl: Rococo: 100%|██████████| 2521/2521 [02:10<00:00, 19.26it/s]\n"
     ]
    },
    {
     "name": "stdout",
     "output_type": "stream",
     "text": [
      "Przetwarzanie 6813 obrazów w stylu Romanticism\n"
     ]
    },
    {
     "name": "stderr",
     "output_type": "stream",
     "text": [
      "Styl: Romanticism:  38%|███▊      | 2569/6813 [01:43<02:04, 34.12it/s]"
     ]
    },
    {
     "name": "stdout",
     "output_type": "stream",
     "text": [
      "Nie udało się wczytać: C:\\Users\\Dominik\\Desktop\\DataSet\\Romanticism\\Romanticism\\209824.jpg\n"
     ]
    },
    {
     "name": "stderr",
     "output_type": "stream",
     "text": [
      "Styl: Romanticism: 100%|██████████| 6813/6813 [05:25<00:00, 20.90it/s]\n"
     ]
    },
    {
     "name": "stdout",
     "output_type": "stream",
     "text": [
      "Przetwarzanie 1510 obrazów w stylu Symbolism\n"
     ]
    },
    {
     "name": "stderr",
     "output_type": "stream",
     "text": [
      "Styl: Symbolism: 100%|██████████| 1510/1510 [01:12<00:00, 20.77it/s]\n"
     ]
    },
    {
     "name": "stdout",
     "output_type": "stream",
     "text": [
      "Przetwarzanie 1158 obrazów w stylu Western_Medieval\n"
     ]
    },
    {
     "name": "stderr",
     "output_type": "stream",
     "text": [
      "Styl: Western_Medieval: 100%|██████████| 1158/1158 [01:43<00:00, 11.18it/s]"
     ]
    },
    {
     "name": "stdout",
     "output_type": "stream",
     "text": [
      "Zakończono preprocessing obrazów!\n"
     ]
    },
    {
     "name": "stderr",
     "output_type": "stream",
     "text": [
      "\n"
     ]
    }
   ],
   "source": [
    "import os\n",
    "import cv2\n",
    "import numpy as np\n",
    "from pathlib import Path\n",
    "from tqdm import tqdm\n",
    "\n",
    "def preprocess_images(input_dir, output_dir, target_size=(512, 512)):\n",
    "    \"\"\"\n",
    "    Przetwarza obrazy z folderu wejściowego i zapisuje je w folderze wyjściowym\n",
    "    z zachowaniem struktury katalogów (stylu artystycznego).\n",
    "    \n",
    "    Args:\n",
    "        input_dir: Ścieżka do folderu z oryginalnymi obrazami\n",
    "        output_dir: Ścieżka do folderu, w którym zostaną zapisane przetworzone obrazy\n",
    "        target_size: Docelowy rozmiar obrazów (szerokość, wysokość)\n",
    "    \"\"\"\n",
    "    input_path = Path(input_dir)\n",
    "    output_path = Path(output_dir)\n",
    "    \n",
    "    # Upewnij się, że folder wyjściowy istnieje\n",
    "    output_path.mkdir(parents=True, exist_ok=True)\n",
    "    \n",
    "    # Iteruj przez style artystyczne (główne foldery)\n",
    "    style_dirs = [d for d in input_path.iterdir() if d.is_dir()]\n",
    "    \n",
    "    for style_dir in style_dirs:\n",
    "        style_name = style_dir.name\n",
    "        output_style_dir = output_path / style_name\n",
    "        output_style_dir.mkdir(exist_ok=True)\n",
    "        \n",
    "        # Znajdź podfoldery (uwzględnienie podwójnego zagnieżdżenia)\n",
    "        sub_dirs = [d for d in style_dir.iterdir() if d.is_dir()]\n",
    "        \n",
    "        # Jeśli istnieją podfoldery, wejdź do nich\n",
    "        if sub_dirs:\n",
    "            for sub_dir in sub_dirs:\n",
    "                # Przetwórz wszystkie obrazy w danym podkatalogu\n",
    "                image_files = list(sub_dir.glob('*.jpg')) + list(sub_dir.glob('*.png')) + list(sub_dir.glob('*.jpeg'))\n",
    "                print(f\"Przetwarzanie {len(image_files)} obrazów w stylu {style_name}\")\n",
    "                \n",
    "                for img_path in tqdm(image_files, desc=f\"Styl: {style_name}\"):\n",
    "                    process_image(img_path, output_style_dir, target_size)\n",
    "        else:\n",
    "            # Jeśli nie ma podfolderów, przetwórz obrazy bezpośrednio w głównym folderze stylu\n",
    "            image_files = list(style_dir.glob('*.jpg')) + list(style_dir.glob('*.png')) + list(style_dir.glob('*.jpeg'))\n",
    "            print(f\"Przetwarzanie {len(image_files)} obrazów w stylu {style_name}\")\n",
    "            \n",
    "            for img_path in tqdm(image_files, desc=f\"Styl: {style_name}\"):\n",
    "                process_image(img_path, output_style_dir, target_size)\n",
    "    \n",
    "    print(\"Zakończono preprocessing obrazów!\")\n",
    "\n",
    "def process_image(img_path, output_dir, target_size):\n",
    "    \"\"\"\n",
    "    Przetwarza pojedynczy obraz.\n",
    "    \n",
    "    Args:\n",
    "        img_path: Ścieżka do obrazu\n",
    "        output_dir: Katalog wyjściowy\n",
    "        target_size: Docelowy rozmiar obrazu\n",
    "    \"\"\"\n",
    "    try:\n",
    "        # Wczytaj obraz\n",
    "        img = cv2.imread(str(img_path))\n",
    "        if img is None:\n",
    "            print(f\"Nie udało się wczytać: {img_path}\")\n",
    "            return\n",
    "        \n",
    "        img = cv2.cvtColor(img, cv2.COLOR_BGR2RGB)  # Konwersja BGR na RGB\n",
    "        \n",
    "        # Sprawdź proporcje obrazu\n",
    "        h, w = img.shape[:2]\n",
    "        aspect_ratio = w / h\n",
    "        \n",
    "        # Sprawdź, czy obraz jest znacznie dłuższy w jednym z wymiarów\n",
    "        if aspect_ratio > 3 or aspect_ratio < 1/3:\n",
    "            # Obraz jest bardzo szeroki lub bardzo wysoki - przycinamy środek\n",
    "            if w > h:\n",
    "                # Szeroki obraz\n",
    "                new_w = int(h * 1.5)  # Przytnij do proporcji 3:2\n",
    "                start_x = int((w - new_w) / 2)\n",
    "                img = img[:, start_x:start_x+new_w]\n",
    "            else:\n",
    "                # Wysoki obraz\n",
    "                new_h = int(w * 1.5)  # Przytnij do proporcji 2:3\n",
    "                start_y = int((h - new_h) / 2)\n",
    "                img = img[start_y:start_y+new_h, :]\n",
    "        \n",
    "        # Skaluj obraz, zachowując proporcje\n",
    "        h, w = img.shape[:2]\n",
    "        if w > h:\n",
    "            new_w = min(w, target_size[0])\n",
    "            new_h = int(h * (new_w / w))\n",
    "        else:\n",
    "            new_h = min(h, target_size[1])\n",
    "            new_w = int(w * (new_h / h))\n",
    "        \n",
    "        img_resized = cv2.resize(img, (new_w, new_h), interpolation=cv2.INTER_AREA)\n",
    "        \n",
    "        # Utwórz pusty obraz o docelowym rozmiarze (dodaj padding)\n",
    "        padded_img = np.zeros((target_size[1], target_size[0], 3), dtype=np.uint8)\n",
    "        \n",
    "        # Umieść przeskalowany obraz na środku\n",
    "        start_x = (target_size[0] - new_w) // 2\n",
    "        start_y = (target_size[1] - new_h) // 2\n",
    "        padded_img[start_y:start_y+new_h, start_x:start_x+new_w] = img_resized\n",
    "        \n",
    "        # Zapisz przetworzony obraz\n",
    "        output_file = output_dir / img_path.name\n",
    "        cv2.imwrite(str(output_file), cv2.cvtColor(padded_img, cv2.COLOR_RGB2BGR))\n",
    "        \n",
    "    except Exception as e:\n",
    "        print(f\"Błąd podczas przetwarzania {img_path}: {e}\")\n",
    "\n",
    "# Ścieżki zgodne z podanymi\n",
    "input_directory = r\"C:\\Users\\Dominik\\Desktop\\DataSet\"\n",
    "output_directory = r\"C:\\Users\\Dominik\\Desktop\\outData\"\n",
    "\n",
    "if __name__ == \"__main__\":\n",
    "    # Przetwórz obrazy do rozmiaru 512x512\n",
    "    preprocess_images(input_directory, output_directory, target_size=(512, 512))\n",
    "    \n",
    "    # Alternatywnie, możesz użyć rozmiaru 256x256 dla szybszego treningu\n",
    "    # preprocess_images(input_directory, output_directory, target_size=(256, 256))"
   ]
  },
  {
   "cell_type": "code",
   "execution_count": null,
   "metadata": {},
   "outputs": [
    {
     "name": "stderr",
     "output_type": "stream",
     "text": [
      "Analizowanie stylów: 100%|██████████| 13/13 [00:01<00:00, 11.80it/s]\n"
     ]
    },
    {
     "name": "stdout",
     "output_type": "stream",
     "text": [
      "Wizualizacje zostały zapisane w: C:\\Users\\Dominik\\Desktop\\outData\\visualizations\n",
      "- Histogram stylów: C:\\Users\\Dominik\\Desktop\\outData\\visualizations\\style_histogram.png\n",
      "- Przykładowe obrazy: C:\\Users\\Dominik\\Desktop\\outData\\visualizations\\style_samples.png\n",
      "\n",
      "Podsumowanie datasetu:\n",
      "Całkowita liczba obrazów: 42500\n",
      "\n",
      "Liczba obrazów w każdym stylu:\n",
      "- Romanticism: 6813\n",
      "- Renaissance: 6192\n",
      "- Realism: 5373\n",
      "- Baroque: 5312\n",
      "- Neoclassicism: 3115\n",
      "- Art_Nouveau: 3035\n",
      "- Expressionism: 2607\n",
      "- Rococo: 2521\n",
      "- Japanese_Art: 2235\n",
      "- Symbolism: 1510\n",
      "- Primitivism: 1324\n",
      "- Academic_Art: 1305\n",
      "- Western_Medieval: 1158\n"
     ]
    },
    {
     "data": {
      "image/png": "[encoded data removed]",
      "text/plain": [
       "<Figure size 1400x700 with 1 Axes>"
      ]
     },
     "metadata": {},
     "output_type": "display_data"
    }
   ],
   "source": [
    "import os\n",
    "import cv2\n",
    "import numpy as np\n",
    "import matplotlib.pyplot as plt\n",
    "from pathlib import Path\n",
    "import random\n",
    "from collections import Counter\n",
    "from tqdm import tqdm\n",
    "\n",
    "def simple_dataset_visualization(input_dir, output_dir):\n",
    "    \"\"\"\n",
    "    Generuje prosty histogram stylów i wyświetla losowe obrazy z każdego stylu.\n",
    "    \n",
    "    Args:\n",
    "        input_dir: Ścieżka do folderu z oryginalnymi obrazami\n",
    "        output_dir: Ścieżka do folderu, w którym zostaną zapisane wizualizacje\n",
    "    \"\"\"\n",
    "    input_path = Path(input_dir)\n",
    "    output_path = Path(output_dir)\n",
    "    output_path.mkdir(parents=True, exist_ok=True)\n",
    "    \n",
    "    # Słownik do przechowywania liczby obrazów i przykładowych obrazów\n",
    "    style_stats = {}\n",
    "    \n",
    "    # Iteruj przez style artystyczne (główne foldery)\n",
    "    style_dirs = [d for d in input_path.iterdir() if d.is_dir()]\n",
    "    \n",
    "    for style_dir in tqdm(style_dirs, desc=\"Analizowanie stylów\"):\n",
    "        style_name = style_dir.name\n",
    "        style_stats[style_name] = {\"count\": 0, \"sample_image\": None}\n",
    "        \n",
    "        # Znajdź podfoldery (uwzględnienie podwójnego zagnieżdżenia)\n",
    "        sub_dirs = [d for d in style_dir.iterdir() if d.is_dir()]\n",
    "        \n",
    "        # Lista wszystkich obrazów w tym stylu\n",
    "        all_style_images = []\n",
    "        \n",
    "        # Jeśli istnieją podfoldery, wejdź do nich\n",
    "        if sub_dirs:\n",
    "            for sub_dir in sub_dirs:\n",
    "                image_files = list(sub_dir.glob('*.jpg')) + list(sub_dir.glob('*.png')) + list(sub_dir.glob('*.jpeg'))\n",
    "                style_stats[style_name][\"count\"] += len(image_files)\n",
    "                all_style_images.extend(image_files)\n",
    "        else:\n",
    "            # Jeśli nie ma podfolderów, zbierz obrazy bezpośrednio z głównego folderu stylu\n",
    "            image_files = list(style_dir.glob('*.jpg')) + list(style_dir.glob('*.png')) + list(style_dir.glob('*.jpeg'))\n",
    "            style_stats[style_name][\"count\"] += len(image_files)\n",
    "            all_style_images.extend(image_files)\n",
    "        \n",
    "        # Wybierz losowy obraz z tego stylu jako przykład\n",
    "        if all_style_images:\n",
    "            style_stats[style_name][\"sample_image\"] = random.choice(all_style_images)\n",
    "    \n",
    "    # Sortuj style według liczby obrazów (malejąco)\n",
    "    sorted_styles = sorted(style_stats.items(), key=lambda x: x[1][\"count\"], reverse=True)\n",
    "    \n",
    "    # 1. Generuj histogram liczby obrazów w każdym stylu\n",
    "    plt.figure(figsize=(14, 7))\n",
    "    style_names = [style for style, _ in sorted_styles]\n",
    "    style_counts = [stats[\"count\"] for _, stats in sorted_styles]\n",
    "    \n",
    "    plt.bar(style_names, style_counts, color='skyblue')\n",
    "    plt.title('Liczba obrazów w każdym stylu artystycznym', fontsize=16)\n",
    "    plt.xlabel('Styl artystyczny', fontsize=12)\n",
    "    plt.ylabel('Liczba obrazów', fontsize=12)\n",
    "    plt.xticks(rotation=45, ha='right')\n",
    "    plt.grid(axis='y', linestyle='--', alpha=0.7)\n",
    "    \n",
    "    # Dodaj liczbę obrazów na słupkach\n",
    "    for i, count in enumerate(style_counts):\n",
    "        plt.text(i, count + 5, str(count), ha='center', fontsize=10)\n",
    "    \n",
    "    plt.tight_layout()\n",
    "    plt.savefig(output_path / 'style_histogram.png', dpi=150)\n",
    "    \n",
    "    # 2. Generuj siatkę z przykładowymi obrazami z każdego stylu\n",
    "    n_styles = len(sorted_styles)\n",
    "    cols = 3\n",
    "    rows = (n_styles + cols - 1) // cols  # Zaokrąglij w górę\n",
    "    \n",
    "    plt.figure(figsize=(18, 5 * rows))\n",
    "    \n",
    "    for i, (style_name, stats) in enumerate(sorted_styles):\n",
    "        plt.subplot(rows, cols, i + 1)\n",
    "        \n",
    "        if stats[\"sample_image\"]:\n",
    "            try:\n",
    "                # Wczytaj i wyświetl losowy obraz\n",
    "                img = cv2.imread(str(stats[\"sample_image\"]))\n",
    "                img = cv2.cvtColor(img, cv2.COLOR_BGR2RGB)\n",
    "                plt.imshow(img)\n",
    "                plt.title(f\"{style_name} ({stats['count']} obrazów)\", fontsize=14)\n",
    "                plt.axis('off')\n",
    "            except Exception as e:\n",
    "                plt.text(0.5, 0.5, f\"Błąd wczytania obrazu: {e}\", ha='center', va='center')\n",
    "                plt.title(f\"{style_name} ({stats['count']} obrazów)\", fontsize=14)\n",
    "                plt.axis('off')\n",
    "        else:\n",
    "            plt.text(0.5, 0.5, \"Brak obrazów\", ha='center', va='center')\n",
    "            plt.title(style_name, fontsize=14)\n",
    "            plt.axis('off')\n",
    "    \n",
    "    plt.tight_layout()\n",
    "    plt.savefig(output_path / 'style_samples.png', dpi=150)\n",
    "    plt.close()\n",
    "    \n",
    "    print(f\"Wizualizacje zostały zapisane w: {output_path}\")\n",
    "    print(f\"- Histogram stylów: {output_path / 'style_histogram.png'}\")\n",
    "    print(f\"- Przykładowe obrazy: {output_path / 'style_samples.png'}\")\n",
    "    \n",
    "    # Zwróć statystyki\n",
    "    return {\n",
    "        \"total_images\": sum(stats[\"count\"] for _, stats in sorted_styles),\n",
    "        \"style_counts\": {style: stats[\"count\"] for style, stats in sorted_styles}\n",
    "    }\n",
    "\n",
    "# Ścieżki zgodne z podanymi\n",
    "input_directory = r\"C:\\Users\\Dominik\\Desktop\\DataSet\"\n",
    "output_directory = r\"C:\\Users\\Dominik\\Desktop\\visualizations\"\n",
    "\n",
    "if __name__ == \"__main__\":\n",
    "    # Wykonaj prostą wizualizację\n",
    "    stats = simple_dataset_visualization(input_directory, output_directory)\n",
    "    \n",
    "    # Wyświetl podstawowe statystyki\n",
    "    print(\"\\nPodsumowanie datasetu:\")\n",
    "    print(f\"Całkowita liczba obrazów: {stats['total_images']}\")\n",
    "    print(\"\\nLiczba obrazów w każdym stylu:\")\n",
    "    for style, count in stats[\"style_counts\"].items():\n",
    "        print(f\"- {style}: {count}\")"
   ]
  },
  {
   "cell_type": "code",
   "execution_count": 28,
   "metadata": {},
   "outputs": [
    {
     "name": "stdout",
     "output_type": "stream",
     "text": [
      "Analizowanie liczby obrazów w każdym stylu...\n",
      "\n",
      "Liczba obrazów przed balansowaniem:\n",
      "balanced: 0 obrazów\n",
      "Western_Medieval: 1158 obrazów\n",
      "Academic_Art: 1305 obrazów\n",
      "Primitivism: 1324 obrazów\n",
      "Symbolism: 1510 obrazów\n",
      "Japanese_Art: 2233 obrazów\n",
      "Rococo: 2521 obrazów\n",
      "Expressionism: 2607 obrazów\n",
      "Art_Nouveau: 3034 obrazów\n",
      "Neoclassicism: 3115 obrazów\n",
      "Baroque: 5308 obrazów\n",
      "Realism: 5373 obrazów\n",
      "Renaissance: 6190 obrazów\n",
      "Romanticism: 6812 obrazów\n",
      "\n",
      "Rozpoczynanie balansowania datasetu...\n"
     ]
    },
    {
     "name": "stderr",
     "output_type": "stream",
     "text": [
      "Przetwarzanie stylów:   0%|          | 0/14 [00:00<?, ?it/s]"
     ]
    },
    {
     "name": "stdout",
     "output_type": "stream",
     "text": [
      "\n",
      "Nadpróbkowanie stylu Academic_Art (obecnie: 1305 obrazów)\n"
     ]
    },
    {
     "name": "stderr",
     "output_type": "stream",
     "text": [
      "Przetwarzanie stylów:   7%|▋         | 1/14 [00:26<05:49, 26.89s/it]"
     ]
    },
    {
     "name": "stdout",
     "output_type": "stream",
     "text": [
      "Zakończono nadpróbkowanie Academic_Art: dodano 695 obrazów (łącznie: 2000)\n"
     ]
    },
    {
     "name": "stderr",
     "output_type": "stream",
     "text": [
      "Przetwarzanie stylów:  14%|█▍        | 2/14 [01:13<07:39, 38.32s/it]"
     ]
    },
    {
     "name": "stdout",
     "output_type": "stream",
     "text": [
      "\n",
      "Nadpróbkowanie stylu balanced (obecnie: 0 obrazów)\n"
     ]
    },
    {
     "name": "stderr",
     "output_type": "stream",
     "text": [
      "Przetwarzanie stylów:  14%|█▍        | 2/14 [01:13<07:19, 36.62s/it]\n"
     ]
    },
    {
     "ename": "IndexError",
     "evalue": "Cannot choose from an empty sequence",
     "output_type": "error",
     "traceback": [
      "\u001b[31m---------------------------------------------------------------------------\u001b[39m",
      "\u001b[31mIndexError\u001b[39m                                Traceback (most recent call last)",
      "\u001b[36mCell\u001b[39m\u001b[36m \u001b[39m\u001b[32mIn[28]\u001b[39m\u001b[32m, line 342\u001b[39m\n\u001b[32m    338\u001b[39m visualizations_dir = \u001b[33mr\u001b[39m\u001b[33m\"\u001b[39m\u001b[33mC:\u001b[39m\u001b[33m\\\u001b[39m\u001b[33mUsers\u001b[39m\u001b[33m\\\u001b[39m\u001b[33mDominik\u001b[39m\u001b[33m\\\u001b[39m\u001b[33mDesktop\u001b[39m\u001b[33m\\\u001b[39m\u001b[33mvisualizations\u001b[39m\u001b[33m\"\u001b[39m  \u001b[38;5;66;03m# Wizualizacje\u001b[39;00m\n\u001b[32m    340\u001b[39m \u001b[38;5;28;01mif\u001b[39;00m \u001b[34m__name__\u001b[39m == \u001b[33m\"\u001b[39m\u001b[33m__main__\u001b[39m\u001b[33m\"\u001b[39m:\n\u001b[32m    341\u001b[39m     \u001b[38;5;66;03m# Wykonaj balansowanie datasetu\u001b[39;00m\n\u001b[32m--> \u001b[39m\u001b[32m342\u001b[39m     balanced_counts = \u001b[43mbalance_dataset\u001b[49m\u001b[43m(\u001b[49m\n\u001b[32m    343\u001b[39m \u001b[43m        \u001b[49m\u001b[43minput_normalized\u001b[49m\u001b[43m,\u001b[49m\u001b[43m \u001b[49m\n\u001b[32m    344\u001b[39m \u001b[43m        \u001b[49m\u001b[43moutput_balanced\u001b[49m\u001b[43m,\u001b[49m\u001b[43m \u001b[49m\n\u001b[32m    345\u001b[39m \u001b[43m        \u001b[49m\u001b[43mmin_threshold\u001b[49m\u001b[43m=\u001b[49m\u001b[32;43m2000\u001b[39;49m\u001b[43m,\u001b[49m\u001b[43m  \u001b[49m\u001b[38;5;66;43;03m# Nadpróbkuj jeśli mniej niż 2000 obrazów\u001b[39;49;00m\n\u001b[32m    346\u001b[39m \u001b[43m        \u001b[49m\u001b[43mmax_threshold\u001b[49m\u001b[43m=\u001b[49m\u001b[32;43m3000\u001b[39;49m\u001b[43m   \u001b[49m\u001b[38;5;66;43;03m# Podpróbkuj jeśli więcej niż 3000 obrazów (zakomentowane)\u001b[39;49;00m\n\u001b[32m    347\u001b[39m \u001b[43m    \u001b[49m\u001b[43m)\u001b[49m\n\u001b[32m    349\u001b[39m     \u001b[38;5;66;03m# Wizualizuj przykłady augmentacji\u001b[39;00m\n\u001b[32m    350\u001b[39m     visualize_augmentation_examples(\n\u001b[32m    351\u001b[39m         input_normalized,\n\u001b[32m    352\u001b[39m         visualizations_dir,\n\u001b[32m    353\u001b[39m         output_balanced\n\u001b[32m    354\u001b[39m     )\n",
      "\u001b[36mCell\u001b[39m\u001b[36m \u001b[39m\u001b[32mIn[28]\u001b[39m\u001b[32m, line 74\u001b[39m, in \u001b[36mbalance_dataset\u001b[39m\u001b[34m(input_dir, output_dir, min_threshold, max_threshold)\u001b[39m\n\u001b[32m     70\u001b[39m pbar = tqdm(total=additional_needed, desc=\u001b[33mf\u001b[39m\u001b[33m\"\u001b[39m\u001b[33mTworzenie augmentacji dla \u001b[39m\u001b[38;5;132;01m{\u001b[39;00mstyle_name\u001b[38;5;132;01m}\u001b[39;00m\u001b[33m\"\u001b[39m, leave=\u001b[38;5;28;01mFalse\u001b[39;00m)\n\u001b[32m     72\u001b[39m \u001b[38;5;28;01mwhile\u001b[39;00m \u001b[38;5;28mlen\u001b[39m(augmented_paths) < additional_needed:\n\u001b[32m     73\u001b[39m     \u001b[38;5;66;03m# Wybierz losowy obraz\u001b[39;00m\n\u001b[32m---> \u001b[39m\u001b[32m74\u001b[39m     img_path = \u001b[43mrandom\u001b[49m\u001b[43m.\u001b[49m\u001b[43mchoice\u001b[49m\u001b[43m(\u001b[49m\u001b[43mimage_files\u001b[49m\u001b[43m)\u001b[49m\n\u001b[32m     76\u001b[39m     \u001b[38;5;66;03m# Wybierz losową augmentację\u001b[39;00m\n\u001b[32m     77\u001b[39m     augment_type = random.choice([\n\u001b[32m     78\u001b[39m         \u001b[33m'\u001b[39m\u001b[33mflip\u001b[39m\u001b[33m'\u001b[39m, \u001b[33m'\u001b[39m\u001b[33mrotate\u001b[39m\u001b[33m'\u001b[39m, \u001b[33m'\u001b[39m\u001b[33mbrightness\u001b[39m\u001b[33m'\u001b[39m, \u001b[33m'\u001b[39m\u001b[33mcontrast\u001b[39m\u001b[33m'\u001b[39m, \u001b[33m'\u001b[39m\u001b[33mblur\u001b[39m\u001b[33m'\u001b[39m, \u001b[33m'\u001b[39m\u001b[33mnoise\u001b[39m\u001b[33m'\u001b[39m, \u001b[33m'\u001b[39m\u001b[33mmulti\u001b[39m\u001b[33m'\u001b[39m\n\u001b[32m     79\u001b[39m     ])\n",
      "\u001b[36mFile \u001b[39m\u001b[32mC:\\Program Files\\WindowsApps\\PythonSoftwareFoundation.Python.3.12_3.12.2544.0_x64__qbz5n2kfra8p0\\Lib\\random.py:347\u001b[39m, in \u001b[36mRandom.choice\u001b[39m\u001b[34m(self, seq)\u001b[39m\n\u001b[32m    344\u001b[39m \u001b[38;5;66;03m# As an accommodation for NumPy, we don't use \"if not seq\"\u001b[39;00m\n\u001b[32m    345\u001b[39m \u001b[38;5;66;03m# because bool(numpy.array()) raises a ValueError.\u001b[39;00m\n\u001b[32m    346\u001b[39m \u001b[38;5;28;01mif\u001b[39;00m \u001b[38;5;129;01mnot\u001b[39;00m \u001b[38;5;28mlen\u001b[39m(seq):\n\u001b[32m--> \u001b[39m\u001b[32m347\u001b[39m     \u001b[38;5;28;01mraise\u001b[39;00m \u001b[38;5;167;01mIndexError\u001b[39;00m(\u001b[33m'\u001b[39m\u001b[33mCannot choose from an empty sequence\u001b[39m\u001b[33m'\u001b[39m)\n\u001b[32m    348\u001b[39m \u001b[38;5;28;01mreturn\u001b[39;00m seq[\u001b[38;5;28mself\u001b[39m._randbelow(\u001b[38;5;28mlen\u001b[39m(seq))]\n",
      "\u001b[31mIndexError\u001b[39m: Cannot choose from an empty sequence"
     ]
    }
   ],
   "source": [
    "import os\n",
    "import cv2\n",
    "import numpy as np\n",
    "import matplotlib.pyplot as plt\n",
    "from pathlib import Path\n",
    "import random\n",
    "from tqdm import tqdm\n",
    "import shutil\n",
    "from PIL import Image, ImageEnhance, ImageOps\n",
    "\n",
    "def balance_dataset(input_dir, output_dir, min_threshold=2000, max_threshold=3000):\n",
    "    \"\"\"\n",
    "    Balansuje zbiór danych poprzez nadpróbkowanie klas z liczbą obrazów < min_threshold.\n",
    "    \n",
    "    Args:\n",
    "        input_dir: Ścieżka do folderu z przetworzonymi, znormalizowanymi obrazami\n",
    "        output_dir: Ścieżka do folderu, w którym zostaną zapisane zbalansowane obrazy\n",
    "        min_threshold: Próg minimalnej liczby obrazów w klasie\n",
    "        max_threshold: Próg maksymalnej liczby obrazów w klasie (używany dla undersampling)\n",
    "    \"\"\"\n",
    "    input_path = Path(input_dir)\n",
    "    output_path = Path(output_dir)\n",
    "    output_path.mkdir(parents=True, exist_ok=True)\n",
    "    \n",
    "    # Słownik do przechowywania liczby obrazów w każdym stylu\n",
    "    style_counts = {}\n",
    "    \n",
    "    # Iteruj przez style artystyczne (foldery)\n",
    "    style_dirs = [d for d in input_path.iterdir() if d.is_dir()]\n",
    "    \n",
    "    print(\"Analizowanie liczby obrazów w każdym stylu...\")\n",
    "    for style_dir in style_dirs:\n",
    "        style_name = style_dir.name\n",
    "        image_files = list(style_dir.glob('*.jpg')) + list(style_dir.glob('*.png')) + list(style_dir.glob('*.jpeg'))\n",
    "        style_counts[style_name] = len(image_files)\n",
    "    \n",
    "    # Wyświetl statystyki przed balansowaniem\n",
    "    print(\"\\nLiczba obrazów przed balansowaniem:\")\n",
    "    for style, count in sorted(style_counts.items(), key=lambda x: x[1]):\n",
    "        print(f\"{style}: {count} obrazów\")\n",
    "    \n",
    "    # Przetwórz każdy styl\n",
    "    print(\"\\nRozpoczynanie balansowania datasetu...\")\n",
    "    \n",
    "    for style_dir in tqdm(style_dirs, desc=\"Przetwarzanie stylów\"):\n",
    "        style_name = style_dir.name\n",
    "        count = style_counts[style_name]\n",
    "        \n",
    "        # Utwórz folder wyjściowy dla tego stylu\n",
    "        output_style_dir = output_path / style_name\n",
    "        output_style_dir.mkdir(exist_ok=True)\n",
    "        \n",
    "        # Kopiuj oryginalne obrazy\n",
    "        image_files = list(style_dir.glob('*.jpg')) + list(style_dir.glob('*.png')) + list(style_dir.glob('*.jpeg'))\n",
    "        \n",
    "        for img_path in tqdm(image_files, desc=f\"Kopiowanie oryginalnych obrazów {style_name}\", leave=False):\n",
    "            shutil.copy(img_path, output_style_dir / img_path.name)\n",
    "        \n",
    "        # Jeśli liczba obrazów jest mniejsza niż min_threshold, wykonaj nadpróbkowanie\n",
    "        if count < min_threshold:\n",
    "            print(f\"\\nNadpróbkowanie stylu {style_name} (obecnie: {count} obrazów)\")\n",
    "            \n",
    "            # Oblicz, ile dodatkowych obrazów potrzebujemy\n",
    "            additional_needed = min_threshold - count\n",
    "            \n",
    "            # Lista do przechowywania ścieżek nowo utworzonych obrazów\n",
    "            augmented_paths = []\n",
    "            \n",
    "            # Dopóki nie mamy wystarczającej liczby obrazów, generuj nowe\n",
    "            pbar = tqdm(total=additional_needed, desc=f\"Tworzenie augmentacji dla {style_name}\", leave=False)\n",
    "            \n",
    "            while len(augmented_paths) < additional_needed:\n",
    "                # Wybierz losowy obraz\n",
    "                img_path = random.choice(image_files)\n",
    "                \n",
    "                # Wybierz losową augmentację\n",
    "                augment_type = random.choice([\n",
    "                    'flip', 'rotate', 'brightness', 'contrast', 'blur', 'noise', 'multi'\n",
    "                ])\n",
    "                \n",
    "                try:\n",
    "                    # Generuj nową nazwę dla augmentowanego obrazu\n",
    "                    base_name = img_path.stem\n",
    "                    ext = img_path.suffix\n",
    "                    new_name = f\"{base_name}_aug_{augment_type}_{len(augmented_paths)}{ext}\"\n",
    "                    output_path_aug = output_style_dir / new_name\n",
    "                    \n",
    "                    # Wykonaj augmentację\n",
    "                    if augment_type == 'flip':\n",
    "                        # Odbij obraz w poziomie za pomocą OpenCV\n",
    "                        img = cv2.imread(str(img_path))\n",
    "                        flipped = cv2.flip(img, 1)  # 1 oznacza flip horyzontalny\n",
    "                        cv2.imwrite(str(output_path_aug), flipped)\n",
    "                        \n",
    "                    elif augment_type == 'rotate':\n",
    "                        # Obróć obraz za pomocą OpenCV\n",
    "                        img = cv2.imread(str(img_path))\n",
    "                        angle = random.randint(-20, 20)  # Losowy kąt od -20 do 20 stopni\n",
    "                        h, w = img.shape[:2]\n",
    "                        center = (w // 2, h // 2)\n",
    "                        M = cv2.getRotationMatrix2D(center, angle, 1.0)\n",
    "                        rotated = cv2.warpAffine(img, M, (w, h), borderMode=cv2.BORDER_REPLICATE)\n",
    "                        cv2.imwrite(str(output_path_aug), rotated)\n",
    "                        \n",
    "                    elif augment_type == 'brightness':\n",
    "                        # Zmień jasność za pomocą PIL\n",
    "                        img = Image.open(img_path)\n",
    "                        factor = random.uniform(0.8, 1.2)  # Losowy współczynnik od 0.8 do 1.2\n",
    "                        enhancer = ImageEnhance.Brightness(img)\n",
    "                        bright_img = enhancer.enhance(factor)\n",
    "                        bright_img.save(output_path_aug)\n",
    "                        \n",
    "                    elif augment_type == 'contrast':\n",
    "                        # Zmień kontrast za pomocą PIL\n",
    "                        img = Image.open(img_path)\n",
    "                        factor = random.uniform(0.8, 1.2)  # Losowy współczynnik od 0.8 do 1.2\n",
    "                        enhancer = ImageEnhance.Contrast(img)\n",
    "                        contrast_img = enhancer.enhance(factor)\n",
    "                        contrast_img.save(output_path_aug)\n",
    "                        \n",
    "                    elif augment_type == 'blur':\n",
    "                        # Dodaj rozmycie Gaussa za pomocą OpenCV\n",
    "                        img = cv2.imread(str(img_path))\n",
    "                        blur_size = random.choice([3, 5, 7])  # Losowy rozmiar kernela\n",
    "                        blurred = cv2.GaussianBlur(img, (blur_size, blur_size), 0)\n",
    "                        cv2.imwrite(str(output_path_aug), blurred)\n",
    "                        \n",
    "                    elif augment_type == 'noise':\n",
    "                        # Dodaj szum za pomocą NumPy i OpenCV\n",
    "                        img = cv2.imread(str(img_path))\n",
    "                        noise = np.random.normal(0, 15, img.shape).astype(np.uint8)  # Szum Gaussowski\n",
    "                        noisy = cv2.add(img, noise)\n",
    "                        cv2.imwrite(str(output_path_aug), noisy)\n",
    "                        \n",
    "                    elif augment_type == 'multi':\n",
    "                        # Kombinacja kilku transformacji\n",
    "                        img = cv2.imread(str(img_path))\n",
    "                        \n",
    "                        # 1. Flip (50% szansy)\n",
    "                        if random.random() > 0.5:\n",
    "                            img = cv2.flip(img, 1)\n",
    "                            \n",
    "                        # 2. Niewielka rotacja\n",
    "                        angle = random.randint(-10, 10)\n",
    "                        h, w = img.shape[:2]\n",
    "                        center = (w // 2, h // 2)\n",
    "                        M = cv2.getRotationMatrix2D(center, angle, 1.0)\n",
    "                        img = cv2.warpAffine(img, M, (w, h), borderMode=cv2.BORDER_REPLICATE)\n",
    "                        \n",
    "                        # 3. Zmiana jasności/kontrastu\n",
    "                        img_pil = Image.fromarray(cv2.cvtColor(img, cv2.COLOR_BGR2RGB))\n",
    "                        brightness_factor = random.uniform(0.9, 1.1)\n",
    "                        contrast_factor = random.uniform(0.9, 1.1)\n",
    "                        \n",
    "                        enhancer = ImageEnhance.Brightness(img_pil)\n",
    "                        img_pil = enhancer.enhance(brightness_factor)\n",
    "                        \n",
    "                        enhancer = ImageEnhance.Contrast(img_pil)\n",
    "                        img_pil = enhancer.enhance(contrast_factor)\n",
    "                        \n",
    "                        # Konwersja z powrotem do OpenCV\n",
    "                        img = cv2.cvtColor(np.array(img_pil), cv2.COLOR_RGB2BGR)\n",
    "                        cv2.imwrite(str(output_path_aug), img)\n",
    "                    \n",
    "                    # Dodaj ścieżkę do listy\n",
    "                    augmented_paths.append(output_path_aug)\n",
    "                    pbar.update(1)\n",
    "                    \n",
    "                    # Sprawdź, czy osiągnęliśmy cel\n",
    "                    if len(augmented_paths) >= additional_needed:\n",
    "                        break\n",
    "                        \n",
    "                except Exception as e:\n",
    "                    print(f\"Błąd podczas augmentacji {img_path}: {e}\")\n",
    "            \n",
    "            pbar.close()\n",
    "            print(f\"Zakończono nadpróbkowanie {style_name}: dodano {len(augmented_paths)} obrazów (łącznie: {count + len(augmented_paths)})\")\n",
    "        \n",
    "        # UWAGA: Ta część jest zakomentowana zgodnie z prośbą\n",
    "        \"\"\"\n",
    "        # Jeśli liczba obrazów jest większa niż max_threshold, wykonaj podpróbkowanie\n",
    "        elif count > max_threshold:\n",
    "            print(f\"\\nPodpróbkowanie stylu {style_name} (obecnie: {count} obrazów)\")\n",
    "            \n",
    "            # Oblicz, ile obrazów należy usunąć\n",
    "            to_remove = count - max_threshold\n",
    "            \n",
    "            # Usuń kopie z folderu wyjściowego (nie z oryginalnego datasetu)\n",
    "            output_files = list(output_style_dir.glob('*.jpg')) + list(output_style_dir.glob('*.png')) + list(output_style_dir.glob('*.jpeg'))\n",
    "            \n",
    "            # Wybierz losowe obrazy do usunięcia\n",
    "            to_remove_files = random.sample(output_files, to_remove)\n",
    "            \n",
    "            for file_path in tqdm(to_remove_files, desc=f\"Usuwanie nadmiarowych obrazów {style_name}\", leave=False):\n",
    "                if file_path.exists():\n",
    "                    file_path.unlink()\n",
    "            \n",
    "            print(f\"Zakończono podpróbkowanie {style_name}: usunięto {to_remove} obrazów (łącznie: {max_threshold})\")\n",
    "        \"\"\"\n",
    "    \n",
    "    # Wyświetl statystyki po balansowaniu\n",
    "    print(\"\\nSprawdzanie liczby obrazów po balansowaniu...\")\n",
    "    balanced_counts = {}\n",
    "    \n",
    "    for style_dir in output_path.iterdir():\n",
    "        if style_dir.is_dir():\n",
    "            style_name = style_dir.name\n",
    "            image_files = list(style_dir.glob('*.jpg')) + list(style_dir.glob('*.png')) + list(style_dir.glob('*.jpeg'))\n",
    "            balanced_counts[style_name] = len(image_files)\n",
    "    \n",
    "    print(\"\\nLiczba obrazów po balansowaniu:\")\n",
    "    for style, count in sorted(balanced_counts.items(), key=lambda x: x[1]):\n",
    "        print(f\"{style}: {count} obrazów\")\n",
    "    \n",
    "    # Generuj histogram porównawczy przed i po balansowaniu\n",
    "    plt.figure(figsize=(14, 8))\n",
    "    \n",
    "    styles = list(style_counts.keys())\n",
    "    original_counts = [style_counts[style] for style in styles]\n",
    "    balanced_counts_list = [balanced_counts[style] for style in styles]\n",
    "    \n",
    "    x = np.arange(len(styles))\n",
    "    width = 0.35\n",
    "    \n",
    "    plt.bar(x - width/2, original_counts, width, label='Przed balansowaniem')\n",
    "    plt.bar(x + width/2, balanced_counts_list, width, label='Po balansowaniu')\n",
    "    \n",
    "    plt.xlabel('Styl artystyczny')\n",
    "    plt.ylabel('Liczba obrazów')\n",
    "    plt.title('Porównanie liczby obrazów przed i po balansowaniu')\n",
    "    plt.xticks(x, styles, rotation=45, ha='right')\n",
    "    plt.legend()\n",
    "    \n",
    "    plt.tight_layout()\n",
    "    plt.savefig(output_path.parent / 'balance_comparison.png')\n",
    "    plt.close()\n",
    "    \n",
    "    return balanced_counts\n",
    "\n",
    "def visualize_augmentation_examples(input_dir, output_dir, balanced_dir):\n",
    "    \"\"\"\n",
    "    Tworzy wizualizację pokazującą przykłady augmentowanych obrazów.\n",
    "    \n",
    "    Args:\n",
    "        input_dir: Ścieżka do folderu z oryginalnymi znormalizowanymi obrazami\n",
    "        output_dir: Ścieżka do folderu, w którym zostaną zapisane wizualizacje\n",
    "        balanced_dir: Ścieżka do folderu ze zbalansowanymi obrazami\n",
    "    \"\"\"\n",
    "    input_path = Path(input_dir)\n",
    "    output_path = Path(output_dir)\n",
    "    balanced_path = Path(balanced_dir)\n",
    "    output_path.mkdir(parents=True, exist_ok=True)\n",
    "    \n",
    "    # Znajdź style, które zostały nadpróbkowane\n",
    "    augmented_styles = []\n",
    "    \n",
    "    for style_dir in balanced_path.iterdir():\n",
    "        if not style_dir.is_dir():\n",
    "            continue\n",
    "            \n",
    "        style_name = style_dir.name\n",
    "        original_dir = input_path / style_name\n",
    "        \n",
    "        if not original_dir.exists():\n",
    "            continue\n",
    "            \n",
    "        original_count = len(list(original_dir.glob('*.jpg')))\n",
    "        augmented_count = len(list(style_dir.glob('*.jpg')))\n",
    "        \n",
    "        if augmented_count > original_count:\n",
    "            augmented_styles.append((style_name, original_count, augmented_count))\n",
    "    \n",
    "    # Wybierz kilka stylów do wizualizacji\n",
    "    styles_to_show = min(4, len(augmented_styles))\n",
    "    selected_styles = random.sample(augmented_styles, styles_to_show) if augmented_styles else []\n",
    "    \n",
    "    if not selected_styles:\n",
    "        print(\"Brak stylów z augmentacją do wyświetlenia.\")\n",
    "        return\n",
    "    \n",
    "    # Dla każdego wybranego stylu, pokaż oryginalny obraz i kilka jego augmentacji\n",
    "    fig, axes = plt.subplots(styles_to_show, 5, figsize=(20, 5*styles_to_show))\n",
    "    \n",
    "    for i, (style_name, _, _) in enumerate(selected_styles):\n",
    "        # Znajdź wszystkie oryginalne obrazy\n",
    "        original_dir = input_path / style_name\n",
    "        original_images = list(original_dir.glob('*.jpg'))\n",
    "        \n",
    "        if not original_images:\n",
    "            continue\n",
    "            \n",
    "        # Wybierz jeden oryginalny obraz\n",
    "        original_img_path = random.choice(original_images)\n",
    "        original_img = cv2.imread(str(original_img_path))\n",
    "        original_img = cv2.cvtColor(original_img, cv2.COLOR_BGR2RGB)\n",
    "        \n",
    "        # Wyświetl oryginalny obraz\n",
    "        axes[i, 0].imshow(original_img)\n",
    "        axes[i, 0].set_title(f\"{style_name}\\nOryginalny\")\n",
    "        axes[i, 0].axis('off')\n",
    "        \n",
    "        # Znajdź augmentowane wersje tego obrazu w folderze zbalansowanym\n",
    "        base_name = original_img_path.stem\n",
    "        augmented_dir = balanced_path / style_name\n",
    "        augmented_images = list(augmented_dir.glob(f\"{base_name}_aug_*.jpg\"))\n",
    "        \n",
    "        # Jeśli nie ma augmentacji dla tego konkretnego obrazu, znajdź jakiekolwiek augmentacje\n",
    "        if not augmented_images:\n",
    "            augmented_images = list(augmented_dir.glob(\"*_aug_*.jpg\"))\n",
    "        \n",
    "        # Pokaż do 4 różnych augmentacji\n",
    "        for j in range(1, 5):\n",
    "            if j <= len(augmented_images):\n",
    "                aug_img_path = augmented_images[j-1]\n",
    "                aug_img = cv2.imread(str(aug_img_path))\n",
    "                aug_img = cv2.cvtColor(aug_img, cv2.COLOR_BGR2RGB)\n",
    "                \n",
    "                # Wyodrębnij typ augmentacji z nazwy pliku\n",
    "                aug_type = \"nieznany\"\n",
    "                if \"_aug_\" in aug_img_path.stem:\n",
    "                    aug_type = aug_img_path.stem.split('_aug_')[1].split('_')[0]\n",
    "                \n",
    "                axes[i, j].imshow(aug_img)\n",
    "                axes[i, j].set_title(f\"Augmentacja\\n{aug_type}\")\n",
    "                axes[i, j].axis('off')\n",
    "            else:\n",
    "                axes[i, j].axis('off')\n",
    "    \n",
    "    plt.tight_layout()\n",
    "    plt.savefig(output_path / 'augmentation_examples.png')\n",
    "    plt.close()\n",
    "    \n",
    "    print(f\"Zapisano przykłady augmentacji w: {output_path / 'augmentation_examples.png'}\")\n",
    "\n",
    "# Zaktualizowane ścieżki\n",
    "input_normalized = r\"C:\\Users\\Dominik\\Desktop\\outData\"  # Znormalizowane obrazy\n",
    "output_balanced = r\"C:\\Users\\Dominik\\Desktop\\Balanced\"    # Zbalansowane obrazy\n",
    "visualizations_dir = r\"C:\\Users\\Dominik\\Desktop\\visualizations\"  # Wizualizacje\n",
    "\n",
    "if __name__ == \"__main__\":\n",
    "    # Wykonaj balansowanie datasetu\n",
    "    balanced_counts = balance_dataset(\n",
    "        input_normalized, \n",
    "        output_balanced, \n",
    "        min_threshold=2000,  # Nadpróbkuj jeśli mniej niż 2000 obrazów\n",
    "        max_threshold=3000   # Podpróbkuj jeśli więcej niż 3000 obrazów (zakomentowane)\n",
    "    )\n",
    "    \n",
    "    # Wizualizuj przykłady augmentacji\n",
    "    visualize_augmentation_examples(\n",
    "        input_normalized,\n",
    "        visualizations_dir,\n",
    "        output_balanced\n",
    "    )\n",
    "    \n",
    "    print(\"\\nZakończono proces balansowania datasetu!\")\n",
    "    stats = simple_dataset_visualization(input_normalized, output_balanced)"
   ]
  }
 ],
 "metadata": {
  "kernelspec": {
   "display_name": "Python 3",
   "language": "python",
   "name": "python3"
  },
  "language_info": {
   "codemirror_mode": {
    "name": "ipython",
    "version": 3
   },
   "file_extension": ".py",
   "mimetype": "text/x-python",
   "name": "python",
   "nbconvert_exporter": "python",
   "pygments_lexer": "ipython3",
   "version": "3.12.9"
  }
 },
 "nbformat": 4,
 "nbformat_minor": 2
}
